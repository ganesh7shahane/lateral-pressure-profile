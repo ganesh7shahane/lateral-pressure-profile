{
 "cells": [
  {
   "cell_type": "markdown",
   "metadata": {},
   "source": [
    "# This netbook is for interpolation of LPP of asymmetric bilayers\n",
    "## specifically for cancer, mammalian, 3 and 4 lipid bilayers"
   ]
  },
  {
   "cell_type": "code",
   "execution_count": 4,
   "metadata": {},
   "outputs": [],
   "source": [
    "\n",
    "#Here are the things to consider when using this program:\n",
    "# 1) make sure that the file contains only 2 cloumns of data: one of distance and the other of pressure values\n",
    "# 2) both distances: positive and negative contain the same number of values, for e.g from -3.8 to 3.8 (not -3.8 to 4.0)\n",
    "# 3) make sure that the pressure profile is centered properly, with the highest values in the center (at distance 0 nm)\n",
    "\n",
    "import pandas as pd\n",
    "import numpy as np\n",
    "import matplotlib.pyplot as plt\n",
    "from scipy.interpolate import interp1d \n",
    "\n",
    "\n",
    "negative_dist = []\n",
    "negative_lpp = []\n",
    "positive_dist = []\n",
    "positive_lpp = []\n",
    "\n",
    "lpp_at_zero = 0\n",
    "\n",
    "averaged_lpp = []\n",
    "not_averaged_lpp = [] #this will take all the negative and positive pressure values from c_lateralpressure.xvg\n",
    "all_dist = [] #this will take all the distance values\n",
    "all_lpp = []\n",
    "\n",
    "df = pd.read_csv('c_lateralpressure.xvg', header=None, delimiter='\\s+') #be careful of the delimiter used! A single space is different than multiple spaces\n",
    "#file = open(\"251-500_averaged_leaflets.xvg\", \"w\") # create the file object to write data in it\n",
    "#df.iloc[:,1] #prints the first column\n",
    "#df.iloc[0][1] #prints the value on row 0 and cloumn 1\n",
    "\n",
    "for i in range(0, df.iloc[:,1].count()):\n",
    "    if df.iloc[i][0] < 0:\n",
    "        negative_dist.append(df.iloc[i][0]) #all negative distances (lower than 0) go in this list\n",
    "        negative_lpp.append(df.iloc[i][1])\n",
    "        not_averaged_lpp.append(df.iloc[i][1])\n",
    "        all_dist.append(df.iloc[i][0])\n",
    "                \n",
    "    elif df.iloc[i][0] == 0:\n",
    "        \n",
    "        lpp_at_zero = df.iloc[i][1]\n",
    "\n",
    "    elif df.iloc[i][0] > 0:\n",
    "        positive_dist.append(df.iloc[i][0])\n",
    "        positive_lpp.append(df.iloc[i][1])\n",
    "        not_averaged_lpp.append(df.iloc[i][1])\n",
    "        all_dist.append(df.iloc[i][0])\n",
    "\n",
    "#print(not_averaged_lpp) #prints all pressure values\n",
    "#print(all_dist) # has all distance values\n",
    "\n",
    "#Following will be the actual interpolation code\n",
    "\n",
    "f = interp1d(all_dist, not_averaged_lpp, kind='cubic') #all_lpp is the data we need to interpolate\n",
    "file1 = open(\"int_751-1000_c_lateralpressure.xvg\", \"w\")\n",
    "\n",
    "dist_int = np.arange(-3.6, 3.6, 0.01) #here you give the range on x-axis where you need to interpolate\n",
    "\n",
    "lpp_int = f(dist_int)\n",
    "\n",
    "for i in range(0, len(dist_int)-1):\n",
    "#    print(dist_int[i], lpp_int[i])\n",
    "    file1.write(\"\"+str(dist_int[i])+\" \"+str(lpp_int[i])+\"\\n\")\n",
    "\n",
    "file1.close()"
   ]
  },
  {
   "cell_type": "code",
   "execution_count": 14,
   "metadata": {},
   "outputs": [
    {
     "data": {
      "text/plain": [
       "[<matplotlib.lines.Line2D at 0x11a10efd0>]"
      ]
     },
     "execution_count": 14,
     "metadata": {},
     "output_type": "execute_result"
    },
    {
     "data": {
      "image/png": "[encoded data removed]",
      "text/plain": [
       "<matplotlib.figure.Figure at 0x119b82278>"
      ]
     },
     "metadata": {},
     "output_type": "display_data"
    }
   ],
   "source": [
    "plt.plot(dist_int, lpp_int, 'r-')"
   ]
  },
  {
   "cell_type": "code",
   "execution_count": 12,
   "metadata": {},
   "outputs": [
    {
     "data": {
      "text/plain": [
       "'/Users/Ganesh/Google Drive/jupyter/stress_4lipidbilayer/751-1000'"
      ]
     },
     "execution_count": 12,
     "metadata": {},
     "output_type": "execute_result"
    }
   ],
   "source": [
    "pwd"
   ]
  },
  {
   "cell_type": "code",
   "execution_count": 11,
   "metadata": {},
   "outputs": [
    {
     "name": "stdout",
     "output_type": "stream",
     "text": [
      "/Users/Ganesh/Google Drive/jupyter/stress_4lipidbilayer/751-1000\n"
     ]
    }
   ],
   "source": [
    "cd ../751-1000"
   ]
  },
  {
   "cell_type": "code",
   "execution_count": null,
   "metadata": {},
   "outputs": [],
   "source": []
  }
 ],
 "metadata": {
  "kernelspec": {
   "display_name": "Python 3",
   "language": "python",
   "name": "python3"
  },
  "language_info": {
   "codemirror_mode": {
    "name": "ipython",
    "version": 3
   },
   "file_extension": ".py",
   "mimetype": "text/x-python",
   "name": "python",
   "nbconvert_exporter": "python",
   "pygments_lexer": "ipython3",
   "version": "3.7.1"
  }
 },
 "nbformat": 4,
 "nbformat_minor": 2
}
